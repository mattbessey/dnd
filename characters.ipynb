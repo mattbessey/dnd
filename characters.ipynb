{
 "cells": [
  {
   "cell_type": "code",
   "execution_count": 3,
   "metadata": {},
   "outputs": [],
   "source": [
    "from dice_rollers import rollSixStats, findStatModifier, roll_dice"
   ]
  },
  {
   "cell_type": "code",
   "execution_count": 2,
   "metadata": {},
   "outputs": [],
   "source": [
    "class Weapon(object):\n",
    "    def __init__(\n",
    "        self, damage_die: list = [1, 6], statistic: str = \"str\", modifier: int = 0\n",
    "    ):\n",
    "        self.damage_die = damage_die\n",
    "        self.statistic = statistic\n",
    "        self.modifier = modifier\n",
    "\n",
    "    def deal_damage(self, is_crit: bool = False):\n",
    "        if is_crit:\n",
    "            return roll_dice(*self.damage_die) + roll_dice(*self.damage_die) + self.modifier\n",
    "        else:\n",
    "            return roll_dice(*self.damage_die) + self.modifier\n",
    "\n",
    "class Character(object):\n",
    "    def __init__(self, name: str, hit_die: list = [1, 10]):\n",
    "        self.name = name\n",
    "        self.hit_die = hit_die\n",
    "        self.state = \"alive\"\n",
    "        self.armor_class = 15\n",
    "        self.initiative = 0\n",
    "\n",
    "        # set attributes\n",
    "        self.str = self.dex = self.con = self.int = self.wis = self.cha = 0\n",
    "\n",
    "        self.get_stat_mod = findStatModifier  # I don't actually know if this is good practice\n",
    "\n",
    "    def set_stat(self, stat_to_modify: str, stat_number: int):\n",
    "        setattr(self, stat_to_modify, stat_number)\n",
    "    \n",
    "    def set_hitpoints(self):\n",
    "        # first level shouldn't have a roll\n",
    "        con_mod = self.get_stat_mod(self.con)\n",
    "        self.hitpoints = roll_dice(self.hit_die[0] - 1, self.hit_die[1]) + (con_mod * self.hit_die[0]) + self.hit_die[1]\n",
    "\n",
    "    def get_attacked(self, attack_dictionary: dict):\n",
    "        print(f\"{self.name} gets attacked\")\n",
    "        if attack_dictionary[\"to_hit\"] >= self.armor_class:\n",
    "            print(\"it's a hit\")\n",
    "            self.takeDamage(attack_dictionary[\"damage\"])\n",
    "        else:\n",
    "            print(\"it's a miss\")\n",
    "\n",
    "    def take_damage(self, damage: int):\n",
    "        if damage >= self.hitpoints:\n",
    "            self.state = \"dead\"\n",
    "        self.hitpoints -= damage\n",
    "\n",
    "    def equip_weapon(self, weapon: Weapon):\n",
    "        self.weapon = weapon\n",
    "\n",
    "    def attack(self, attack_stat: int = \"str\"):\n",
    "        modifier = self.get_stat_mod(getattr(self, attack_stat))\n",
    "\n",
    "        roll = roll_dice(1, 20)\n",
    "\n",
    "        to_hit = roll + modifier\n",
    "\n",
    "        if roll == 20:\n",
    "            damage = self.weapon.deal_damage(is_crit=True)\n",
    "        else:\n",
    "            damage = self.weapon.deal_damage(is_crit=False)\n",
    "\n",
    "        damage += modifier\n",
    "\n",
    "        return {\"to_hit\": to_hit, \"damage\": damage}\n",
    "    \n",
    "    def roll_for_initiative(self):\n",
    "        self.initiative = roll_dice(1,20) + self.get_stat_mod(self.dex)\n",
    "    \n",
    "    def change_hitpoints(self, amount: int = 0):\n",
    "        self.hitpoints += amount"
   ]
  },
  {
   "cell_type": "code",
   "execution_count": 4,
   "metadata": {},
   "outputs": [],
   "source": [
    "def create_character(name: str, stat_list: list, stat_rank_order: list) -> Character: \n",
    "    \"\"\"\n",
    "    Creates a Character with given name.\n",
    "    Stats are taken from stat_list and assigned\n",
    "    in descending rank order based on stat_rank_order\n",
    "    \"\"\"\n",
    "    stat_list.sort(reverse=True)\n",
    "    character = Character(name)\n",
    "    for i in range(len(stat_rank_order)):\n",
    "        character.set_stat(stat_to_modify=stat_rank_order[i], stat_number=stat_list[i])\n",
    "    character.set_hitpoints()\n",
    "    return character"
   ]
  },
  {
   "cell_type": "code",
   "execution_count": 19,
   "metadata": {},
   "outputs": [],
   "source": [
    "stat_list = rollSixStats()\n",
    "stat_rank_order = [\"str\", \"dex\", \"con\", \"int\", \"wis\", \"cha\"]\n",
    "Dan = create_character(\"Dan\", stat_list, stat_rank_order)\n",
    "Dan.set_hitpoints()\n",
    "Sam = create_character(\"Sam\", stat_list, stat_rank_order)\n",
    "Sam.set_hitpoints()\n",
    "katana = Weapon()\n",
    "Sam.equip_weapon(katana)\n",
    "Dan.equip_weapon(katana)\n"
   ]
  },
  {
   "cell_type": "code",
   "execution_count": 21,
   "metadata": {},
   "outputs": [
    {
     "name": "stdout",
     "output_type": "stream",
     "text": [
      "Sam gets attacked\n",
      "it's a hit\n"
     ]
    },
    {
     "ename": "AttributeError",
     "evalue": "'Character' object has no attribute 'takeDamage'",
     "output_type": "error",
     "traceback": [
      "\u001b[0;31m---------------------------------------------------------------------------\u001b[0m",
      "\u001b[0;31mAttributeError\u001b[0m                            Traceback (most recent call last)",
      "\u001b[0;32m<ipython-input-21-f31a40fc0f90>\u001b[0m in \u001b[0;36m<module>\u001b[0;34m\u001b[0m\n\u001b[0;32m----> 1\u001b[0;31m \u001b[0mSam\u001b[0m\u001b[0;34m.\u001b[0m\u001b[0mget_attacked\u001b[0m\u001b[0;34m(\u001b[0m\u001b[0mDan\u001b[0m\u001b[0;34m.\u001b[0m\u001b[0mattack\u001b[0m\u001b[0;34m(\u001b[0m\u001b[0;34m)\u001b[0m\u001b[0;34m)\u001b[0m\u001b[0;34m\u001b[0m\u001b[0;34m\u001b[0m\u001b[0m\n\u001b[0m",
      "\u001b[0;32m<ipython-input-2-5c08d7b32824>\u001b[0m in \u001b[0;36mget_attacked\u001b[0;34m(self, attack_dictionary)\u001b[0m\n\u001b[1;32m     38\u001b[0m         \u001b[0;32mif\u001b[0m \u001b[0mattack_dictionary\u001b[0m\u001b[0;34m[\u001b[0m\u001b[0;34m\"to_hit\"\u001b[0m\u001b[0;34m]\u001b[0m \u001b[0;34m>=\u001b[0m \u001b[0mself\u001b[0m\u001b[0;34m.\u001b[0m\u001b[0marmor_class\u001b[0m\u001b[0;34m:\u001b[0m\u001b[0;34m\u001b[0m\u001b[0;34m\u001b[0m\u001b[0m\n\u001b[1;32m     39\u001b[0m             \u001b[0mprint\u001b[0m\u001b[0;34m(\u001b[0m\u001b[0;34m\"it's a hit\"\u001b[0m\u001b[0;34m)\u001b[0m\u001b[0;34m\u001b[0m\u001b[0;34m\u001b[0m\u001b[0m\n\u001b[0;32m---> 40\u001b[0;31m             \u001b[0mself\u001b[0m\u001b[0;34m.\u001b[0m\u001b[0mtakeDamage\u001b[0m\u001b[0;34m(\u001b[0m\u001b[0mattack_dictionary\u001b[0m\u001b[0;34m[\u001b[0m\u001b[0;34m\"damage\"\u001b[0m\u001b[0;34m]\u001b[0m\u001b[0;34m)\u001b[0m\u001b[0;34m\u001b[0m\u001b[0;34m\u001b[0m\u001b[0m\n\u001b[0m\u001b[1;32m     41\u001b[0m         \u001b[0;32melse\u001b[0m\u001b[0;34m:\u001b[0m\u001b[0;34m\u001b[0m\u001b[0;34m\u001b[0m\u001b[0m\n\u001b[1;32m     42\u001b[0m             \u001b[0mprint\u001b[0m\u001b[0;34m(\u001b[0m\u001b[0;34m\"it's a miss\"\u001b[0m\u001b[0;34m)\u001b[0m\u001b[0;34m\u001b[0m\u001b[0;34m\u001b[0m\u001b[0m\n",
      "\u001b[0;31mAttributeError\u001b[0m: 'Character' object has no attribute 'takeDamage'"
     ]
    }
   ],
   "source": [
    "Sam.get_attacked(Dan.attack())"
   ]
  },
  {
   "cell_type": "code",
   "execution_count": null,
   "metadata": {},
   "outputs": [],
   "source": []
  },
  {
   "cell_type": "code",
   "execution_count": null,
   "metadata": {},
   "outputs": [],
   "source": [
    "def fight_to_death(\n",
    "    character_1: Character, character_2: Character\n",
    "    ) -> Character:\n",
    "    \"\"\"\n",
    "    Takes two Character object, rolls their initiative,\n",
    "    and then has them attack each other until one does.\n",
    "    Returns the winner\n",
    "    \"\"\"\n",
    "    character_1.roll_for_initiative()\n",
    "    character_2.roll_for_initiative()\n",
    "\n",
    "    if character_2.initiative > character_1.initiative:\n",
    "        remember_to_switch = True\n",
    "        character_1, character_2 = character_2, character_1\n",
    "    \n",
    "    while \n",
    "\n",
    "\n",
    "    "
   ]
  },
  {
   "cell_type": "markdown",
   "metadata": {},
   "source": []
  }
 ],
 "metadata": {
  "kernelspec": {
   "display_name": "Python 3.7.4 ('base')",
   "language": "python",
   "name": "python3"
  },
  "language_info": {
   "codemirror_mode": {
    "name": "ipython",
    "version": 3
   },
   "file_extension": ".py",
   "mimetype": "text/x-python",
   "name": "python",
   "nbconvert_exporter": "python",
   "pygments_lexer": "ipython3",
   "version": "3.7.4"
  },
  "vscode": {
   "interpreter": {
    "hash": "40d3a090f54c6569ab1632332b64b2c03c39dcf918b08424e98f38b5ae0af88f"
   }
  }
 },
 "nbformat": 4,
 "nbformat_minor": 4
}
