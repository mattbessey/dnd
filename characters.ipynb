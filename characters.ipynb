{
 "cells": [
  {
   "cell_type": "code",
   "execution_count": 1,
   "metadata": {},
   "outputs": [],
   "source": [
    "import nbimporter\n",
    "from dice_rollers import rollSixStats, findStatModifier, roll_dice"
   ]
  },
  {
   "cell_type": "code",
   "execution_count": 4,
   "metadata": {},
   "outputs": [],
   "source": [
    "class Weapon(object):\n",
    "    def __init__(\n",
    "        self, damage_die: list = [1, 6], statistic: str = \"str\", modifier: int = 0\n",
    "    ):\n",
    "        self.damage_die = damage_die\n",
    "        self.statistic = statistic\n",
    "        self.modifier = modifier\n",
    "\n",
    "    def deal_damage(self, is_crit: bool = False):\n",
    "        if is_crit:\n",
    "            return roll_dice(*self.damage_die) + roll_dice(*self.damage_die) + self.modifier\n",
    "        else:\n",
    "            return roll_dice(*self.damage_die) + self.modifier\n",
    "\n",
    "class Character(object):\n",
    "    def __init__(self, name: str, hit_die: list = [1, 10]):\n",
    "        self.name = name\n",
    "        self.hit_die = hit_die\n",
    "        self.state = \"alive\"\n",
    "        self.armor_class = 15\n",
    "\n",
    "        # set attributes\n",
    "        self.str = self.dex = self.con = self.int = self.wis = self.cha = 0\n",
    "\n",
    "        self.get_stat_mod = findStatModifier  # I don't actually know if this is good practice\n",
    "\n",
    "    def set_stat(self, stat_to_modify: str, stat_number: int):\n",
    "        setattr(self, stat_to_modify, stat_number)\n",
    "\n",
    "    def set_hitpoints(self):\n",
    "        # first level shouldn't have a roll\n",
    "        con_mod = self.get_stat_mod(self.con)\n",
    "        self.hitpoints = roll_dice(self.hit_die[0] - 1, self.hit_die[1]) + (con_mod * self.hit_die[0]) + self.hit_die[1]\n",
    "\n",
    "    def get_attacked(self, attack_dictionary: dict):\n",
    "        print(f\"{self.name} gets attacked\")\n",
    "        if attack_dictionary[\"to_hit\"] >= self.armor_class:\n",
    "            print(\"it's a hit\")\n",
    "            self.takeDamage(attack_dictionary[\"damage\"])\n",
    "        else:\n",
    "            print(\"it's a miss\")\n",
    "\n",
    "    def take_damage(self, damage: int):\n",
    "        if damage >= self.hitpoints:\n",
    "            self.state = \"dead\"\n",
    "        self.hitpoints -= damage\n",
    "\n",
    "    def equip_weapon(self, weapon: Weapon):\n",
    "        self.weapon = weapon\n",
    "\n",
    "    def attack(self, attack_stat: int = \"str\"):\n",
    "        modifier = self.get_stat_mod(getattr(self, attack_stat))\n",
    "\n",
    "        roll = roll_dice(1, 20)\n",
    "\n",
    "        to_hit = roll + modifier\n",
    "\n",
    "        if roll == 20:\n",
    "            damage = self.weapon.deal_damage(is_crit=True)\n",
    "        else:\n",
    "            damage = self.weapon.deal_damage(is_crit=False)\n",
    "\n",
    "        damage += modifier\n",
    "\n",
    "        return {\"to_hit\": to_hit, \"damage\": damage}"
   ]
  },
  {
   "cell_type": "code",
   "execution_count": 5,
   "metadata": {},
   "outputs": [],
   "source": [
    "def create_character(name: str, stat_list: list, stat_rank_order: list):  # camelCase is for classes, use snake_case\n",
    "    \"\"\"\n",
    "    Creates a Character with given name.\n",
    "    Stats are taken from stat_list and assigned\n",
    "    in descending rank order based on stat_rank_order\n",
    "    \"\"\"\n",
    "    stat_list.sort(reverse=True)\n",
    "    character = Character(name)\n",
    "    for i in range(len(stat_rank_order)):\n",
    "        character.set_stat(stat_to_modify=stat_rank_order[i], stat_number=stat_list[i])\n",
    "    character.set_hitpoints()\n",
    "    return character"
   ]
  },
  {
   "cell_type": "code",
   "execution_count": 6,
   "metadata": {},
   "outputs": [
    {
     "data": {
      "text/plain": [
       "{'to_hit': 4, 'damage': 7}"
      ]
     },
     "execution_count": 6,
     "metadata": {},
     "output_type": "execute_result"
    }
   ],
   "source": [
    "stat_list = rollSixStats()\n",
    "stat_rank_order = [\"str\", \"dex\", \"con\", \"int\", \"wis\", \"cha\"]\n",
    "Dan = create_character(\"Dan\", stat_list, stat_rank_order)\n",
    "Dan.set_hitpoints()\n",
    "katana = Weapon()\n",
    "Dan.equip_weapon(katana)\n",
    "Dan.attack()"
   ]
  },
  {
   "cell_type": "markdown",
   "metadata": {},
   "source": []
  }
 ],
 "metadata": {
  "kernelspec": {
   "display_name": "Python 3.7.4 ('base')",
   "language": "python",
   "name": "python3"
  },
  "language_info": {
   "codemirror_mode": {
    "name": "ipython",
    "version": 3
   },
   "file_extension": ".py",
   "mimetype": "text/x-python",
   "name": "python",
   "nbconvert_exporter": "python",
   "pygments_lexer": "ipython3",
   "version": "3.7.4"
  },
  "vscode": {
   "interpreter": {
    "hash": "40d3a090f54c6569ab1632332b64b2c03c39dcf918b08424e98f38b5ae0af88f"
   }
  }
 },
 "nbformat": 4,
 "nbformat_minor": 4
}
