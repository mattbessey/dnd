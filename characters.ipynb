{
 "cells": [
  {
   "cell_type": "code",
   "execution_count": 5,
   "metadata": {},
   "outputs": [],
   "source": [
    "import nbimporter\n",
    "from dice_rollers import rollSixStats, findStatModifier, rollxdy"
   ]
  },
  {
   "cell_type": "code",
   "execution_count": 26,
   "metadata": {},
   "outputs": [],
   "source": [
    "class Character(object):\n",
    "    def __init__(self, name: str, hit_die: str = \"1d10\"):\n",
    "        self.name = name\n",
    "        self.hit_die = hit_die\n",
    "        self.state = \"alive\"\n",
    "        self.armorClass = 15\n",
    "\n",
    "        # set attributes\n",
    "        self.str = self.dex = self.con = self.int = self.wis = self.cha = 0\n",
    "\n",
    "        self.get_stat_mod = get_stat_mods  # I don't actually know if this is good practice\n",
    "\n",
    "    def setStats(self, stat_to_modify: str, stat_number: int):\n",
    "        setattr(self, stat_to_modify, stat_number)\n",
    "\n",
    "    def setHitpoints(self):\n",
    "        # first level shouldn't have a roll\n",
    "        self.hitpoints = rollxdy(self.hit_die) + self.con_mod\n",
    "\n",
    "    def getAttacked(self, attack_dictionary: dict):\n",
    "        print(\"%s gets attacked\" % self.name)\n",
    "        if attack_dictionary[\"to_hit\"] >= self.armorClass:\n",
    "            print(\"it's a hit\")\n",
    "            self.takeDamage(attack_dictionary[\"damage\"])\n",
    "        else:\n",
    "            print(\"it's a miss\")\n",
    "\n",
    "    def takeDamage(self, damage: int):\n",
    "        if damage >= self.hitpoints:\n",
    "            self.state = \"dead\"\n",
    "        self.hitpoints -= damage\n",
    "\n",
    "    def equipWeapon(self, weapon: Weapon):\n",
    "        self.weapon = weapon\n",
    "\n",
    "    def attack(self, attack_stat: int = \"str\"):\n",
    "        modifier = sself.get_stat_mod(getattr(self, attack_stat))\n",
    "\n",
    "        roll = rollxdy(\"1d20\")  # I'd recommend changing rollxdy to accept 2 ints instead of a string\n",
    "\n",
    "        to_hit = roll + modifier\n",
    "\n",
    "        if roll == 20:\n",
    "            damage = self.weapon.dealDamage(is_crit=True)\n",
    "        elif roll != 20:\n",
    "            damage = self.weapon.dealDamage(is_crit=False)\n",
    "        else:  # You never hit this else statement!\n",
    "            damage = 0\n",
    "\n",
    "        damage += modifier\n",
    "\n",
    "        return {\"to_hit\": to_hit, \"damage\": damage}"
   ]
  },
  {
   "cell_type": "code",
   "execution_count": 7,
   "metadata": {},
   "outputs": [],
   "source": [
    "class Weapon(object):\n",
    "    def __init__(\n",
    "        self, damage_die: str = \"1d6\", statistic: str = \"str\", modifier: int = 0\n",
    "    ):\n",
    "        self.damage_die = damage_die\n",
    "        self.statistic = statistic\n",
    "        self.modifier = modifier\n",
    "\n",
    "    def dealDamage(self, is_crit: bool = False):\n",
    "        if is_crit:\n",
    "            return rollxdy(self.damage_die) + rollxdy(self.damage_die) + self.modifier\n",
    "        else:\n",
    "            return rollxdy(self.damage_die) + self.modifier"
   ]
  },
  {
   "cell_type": "code",
   "execution_count": 8,
   "metadata": {},
   "outputs": [],
   "source": [
    "def createCharacterWithStatList(name: str, stat_list: list, stat_rank_order: list):  # camelCase is for classes, use snake_case\n",
    "    \"\"\"\n",
    "    Creates a Character with given name.\n",
    "    Stats are taken from stat_list and assigned\n",
    "    in descending rank order based on stat_rank_order\n",
    "    \"\"\"\n",
    "    stat_list.sort(reverse=True)\n",
    "    character = Character(name)\n",
    "    for i in range(len(stat_rank_order)):\n",
    "        character.setStats(stat_to_modify=stat_rank_order[i], stat_number=stat_list[i])\n",
    "    character.setModifiers()\n",
    "    character.setHitpoints()\n",
    "    return character"
   ]
  },
  {
   "cell_type": "code",
   "execution_count": 27,
   "metadata": {},
   "outputs": [
    {
     "data": {
      "text/plain": [
       "{'to_hit': 7, 'damage': 13}"
      ]
     },
     "execution_count": 27,
     "metadata": {},
     "output_type": "execute_result"
    }
   ],
   "source": [
    "stat_list = rollSixStats()\n",
    "stat_rank_order = [\"str\", \"dex\", \"con\", \"int\", \"wis\", \"cha\"]\n",
    "Dan = createCharacterWithStatList(\"Dan\", stat_list, stat_rank_order)\n",
    "Dan.setHitpoints()\n",
    "katana = Weapon()\n",
    "Dan.equipWeapon(katana)\n",
    "Dan.attack()"
   ]
  },
  {
   "cell_type": "markdown",
   "metadata": {},
   "source": []
  }
 ],
 "metadata": {
  "kernelspec": {
   "display_name": "Python 3",
   "language": "python",
   "name": "python3"
  },
  "language_info": {
   "codemirror_mode": {
    "name": "ipython",
    "version": 3
   },
   "file_extension": ".py",
   "mimetype": "text/x-python",
   "name": "python",
   "nbconvert_exporter": "python",
   "pygments_lexer": "ipython3",
   "version": "3.7.4"
  }
 },
 "nbformat": 4,
 "nbformat_minor": 4
}
