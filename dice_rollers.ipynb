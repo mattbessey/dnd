{
 "cells": [
  {
   "cell_type": "code",
   "execution_count": 24,
   "metadata": {},
   "outputs": [
    {
     "data": {
      "text/plain": [
       "6"
      ]
     },
     "execution_count": 24,
     "metadata": {},
     "output_type": "execute_result"
    }
   ],
   "source": [
    "# import stuff\n",
    "import numpy as np\n",
    "import random\n",
    "import math"
   ]
  },
  {
   "cell_type": "code",
   "execution_count": 117,
   "metadata": {},
   "outputs": [],
   "source": [
    "def statsRoller() -> int:\n",
    "    \"\"\"\n",
    "    Rolls 4d6, drops lowest, returns sum\n",
    "    \"\"\"\n",
    "    roll_list = [random.randint(1, 6) for _ in range(4)]\n",
    "    roll_list.remove(min(roll_list))\n",
    "    return sum(roll_list)\n",
    "\n",
    "\n",
    "def rollSixStats() -> list:\n",
    "    \"\"\"\n",
    "    Rolls 6 stats and returns the list\n",
    "    \"\"\"\n",
    "    return [statsRoller() for _ in range(6)]\n",
    "\n",
    "\n",
    "def findStatModifier(stat: int) -> int:\n",
    "    return math.floor((stat - 10) / 2)\n",
    "\n",
    "\n",
    "def roll_dice(number, die_type):\n",
    "    return sum([random.randint(1, die_type) for _ in range(number)])"
   ]
  }
 ],
 "metadata": {
  "kernelspec": {
   "display_name": "Python 3.7.4 ('base')",
   "language": "python",
   "name": "python3"
  },
  "language_info": {
   "codemirror_mode": {
    "name": "ipython",
    "version": 3
   },
   "file_extension": ".py",
   "mimetype": "text/x-python",
   "name": "python",
   "nbconvert_exporter": "python",
   "pygments_lexer": "ipython3",
   "version": "3.7.4"
  },
  "vscode": {
   "interpreter": {
    "hash": "40d3a090f54c6569ab1632332b64b2c03c39dcf918b08424e98f38b5ae0af88f"
   }
  }
 },
 "nbformat": 4,
 "nbformat_minor": 4
}
