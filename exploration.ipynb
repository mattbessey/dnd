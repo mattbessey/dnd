{
 "cells": [
  {
   "cell_type": "code",
   "execution_count": 46,
   "metadata": {},
   "outputs": [],
   "source": [
    "# import stuff\n",
    "from dice_rollers import rollSixStats, findStatModifier, roll_dice\n",
    "from dnd_mechanics import create_character_easy, Character, Weapon, create_character, create_all_character_variations, fight_to_death\n",
    "import statistics"
   ]
  },
  {
   "cell_type": "code",
   "execution_count": 59,
   "metadata": {},
   "outputs": [],
   "source": [
    "def summarize_character_list(character_list: list,\n",
    "                             stats_to_analyze: list = [\"level\", \"hitpoints\", \"str\",\n",
    "                                                       \"dex\", \"con\", \"int\", \"wis\", \"cha\"]) -> dict:\n",
    "    \"\"\"\n",
    "    Takes a list of characters and summarizes their stats.\n",
    "    \"\"\"\n",
    "    stat_dict = {}\n",
    "\n",
    "    for _ in character_list:\n",
    "        for stat in stats_to_analyze:\n",
    "            stat_for_all_chars = [getattr(i, stat) for i in characters]\n",
    "            mean = statistics.mean(stat_for_all_chars)\n",
    "            stdev = statistics.stdev(stat_for_all_chars)\n",
    "            temp_dict = {\"mean\": mean, \"stdev\": stdev, \"full_list\": stat_for_all_chars}\n",
    "            stat_dict[stat] = temp_dict\n",
    "\n",
    "    return stat_dict\n"
   ]
  },
  {
   "cell_type": "code",
   "execution_count": null,
   "metadata": {},
   "outputs": [],
   "source": [
    "def fight_random_characters(number_of_fights: int) -> list:\n",
    "    all_fights = []\n",
    "    for _ in range number_of_fights:\n",
    "        character1 = create_character_easy(\"character\")\n",
    "        character2 = create_character_easy(\"character\")\n",
    "        fight = fight_to_death(character1, character2)\n",
    "        all_fights.append(fight)\n",
    "    \n",
    "    return all_fights"
   ]
  }
 ],
 "metadata": {
  "kernelspec": {
   "display_name": "Python 3.7.4 ('base')",
   "language": "python",
   "name": "python3"
  },
  "language_info": {
   "codemirror_mode": {
    "name": "ipython",
    "version": 3
   },
   "file_extension": ".py",
   "mimetype": "text/x-python",
   "name": "python",
   "nbconvert_exporter": "python",
   "pygments_lexer": "ipython3",
   "version": "3.7.4"
  },
  "orig_nbformat": 4,
  "vscode": {
   "interpreter": {
    "hash": "40d3a090f54c6569ab1632332b64b2c03c39dcf918b08424e98f38b5ae0af88f"
   }
  }
 },
 "nbformat": 4,
 "nbformat_minor": 2
}
