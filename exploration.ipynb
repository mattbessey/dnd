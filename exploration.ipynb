{
 "cells": [
  {
   "cell_type": "code",
   "execution_count": 15,
   "metadata": {},
   "outputs": [],
   "source": [
    "# import stuff\n",
    "from dice_rollers import rollSixStats, findStatModifier, roll_dice\n",
    "from dnd_mechanics import (\n",
    "    create_character_easy, Character, Weapon\n",
    "    , create_character, create_all_character_variations\n",
    "    , fight_to_death, extract_stat_df\n",
    "    )\n",
    "import statistics\n",
    "import pandas as pd\n",
    "import numpy as np\n",
    "import random"
   ]
  },
  {
   "cell_type": "code",
   "execution_count": 10,
   "metadata": {},
   "outputs": [],
   "source": [
    "characters = create_all_character_variations()"
   ]
  },
  {
   "cell_type": "code",
   "execution_count": 11,
   "metadata": {},
   "outputs": [],
   "source": [
    "character0 = characters[0]\n",
    "character1 = characters[1]"
   ]
  },
  {
   "cell_type": "code",
   "execution_count": null,
   "metadata": {},
   "outputs": [],
   "source": [
    "def fight_a_bunch(num_fights: int, characters_to_fight: list = None) -> list:\n",
    "    \"\"\"\n",
    "    Takes a list of characters and fights them against each other.\n",
    "    Each round randomly draws two characters from the list.\n",
    "    Future improvements to support win streaks + characters carrying forward.\n",
    "    Note: characters may fight themselves\n",
    "    \"\"\"\n",
    "    outcome_list = []\n",
    "\n",
    "    if characters_to_fight == None:\n",
    "        characters_to_fight = create_all_character_variations()\n",
    "\n",
    "    for i in range(num_fights):\n",
    "        character0 = random.choice(characters_to_fight)\n",
    "        character1 = random.choice(characters_to_fight)\n",
    "        fight = fight_to_death(character0, character1)\n",
    "        "
   ]
  }
 ],
 "metadata": {
  "kernelspec": {
   "display_name": "Python 3.7.4 ('base')",
   "language": "python",
   "name": "python3"
  },
  "language_info": {
   "codemirror_mode": {
    "name": "ipython",
    "version": 3
   },
   "file_extension": ".py",
   "mimetype": "text/x-python",
   "name": "python",
   "nbconvert_exporter": "python",
   "pygments_lexer": "ipython3",
   "version": "3.7.4"
  },
  "orig_nbformat": 4,
  "vscode": {
   "interpreter": {
    "hash": "40d3a090f54c6569ab1632332b64b2c03c39dcf918b08424e98f38b5ae0af88f"
   }
  }
 },
 "nbformat": 4,
 "nbformat_minor": 2
}
