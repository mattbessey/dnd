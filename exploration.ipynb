{
 "cells": [
  {
   "cell_type": "code",
   "execution_count": 33,
   "metadata": {},
   "outputs": [],
   "source": [
    "# import stuff\n",
    "from dice_rollers import rollSixStats, findStatModifier, roll_dice\n",
    "from dnd_mechanics import create_character_easy, Character, Weapon, create_character, create_all_character_variations, fight_to_death\n",
    "import statistics\n",
    "import pandas as pd\n",
    "import numpy as np"
   ]
  },
  {
   "cell_type": "code",
   "execution_count": 2,
   "metadata": {},
   "outputs": [],
   "source": [
    "character = create_character_easy(\"character\")"
   ]
  },
  {
   "cell_type": "code",
   "execution_count": 3,
   "metadata": {},
   "outputs": [],
   "source": [
    "stats = [\"str\", \"dex\", \"con\", \"int\", \"wis\", \"cha\"]"
   ]
  },
  {
   "cell_type": "code",
   "execution_count": 50,
   "metadata": {},
   "outputs": [],
   "source": [
    "def extract_stat_df(characters: list) -> pd.DataFrame:\n",
    "    stat_data = pd.DataFrame(columns=[\"character\", \"stat\", \"value\"])\n",
    "    all_stats = [\"str\", \"dex\", \"con\", \"int\", \"wis\", \"cha\"]\n",
    "    for character in characters:\n",
    "        for stat in all_stats:\n",
    "            temp_df = pd.DataFrame(\n",
    "                [[character, stat, eval(\"character.%s\" % stat)]],\n",
    "                columns = [\"character\", \"stat\", \"value\"]\n",
    "            )\n",
    "            stat_data = stat_data.append(temp_df)\n",
    "    \n",
    "    stat_data[\"value\"] = stat_data[\"value\"].apply(pd.np.float64)\n",
    "    stat_data[\"character\"] = stat_data[\"character\"].apply(str)\n",
    "    stat_data[\"stat_rank\"] = stat_data.groupby(\"character\")[\"value\"].rank(\"dense\", ascending=False)\n",
    "    \n",
    "    return stat_data"
   ]
  },
  {
   "cell_type": "code",
   "execution_count": 51,
   "metadata": {},
   "outputs": [],
   "source": [
    "test = extract_stat_df(characters)"
   ]
  },
  {
   "cell_type": "code",
   "execution_count": 52,
   "metadata": {},
   "outputs": [
    {
     "data": {
      "text/html": [
       "<div>\n",
       "<style scoped>\n",
       "    .dataframe tbody tr th:only-of-type {\n",
       "        vertical-align: middle;\n",
       "    }\n",
       "\n",
       "    .dataframe tbody tr th {\n",
       "        vertical-align: top;\n",
       "    }\n",
       "\n",
       "    .dataframe thead th {\n",
       "        text-align: right;\n",
       "    }\n",
       "</style>\n",
       "<table border=\"1\" class=\"dataframe\">\n",
       "  <thead>\n",
       "    <tr style=\"text-align: right;\">\n",
       "      <th></th>\n",
       "      <th>character</th>\n",
       "      <th>stat</th>\n",
       "      <th>value</th>\n",
       "      <th>stat_rank</th>\n",
       "    </tr>\n",
       "  </thead>\n",
       "  <tbody>\n",
       "    <tr>\n",
       "      <td>0</td>\n",
       "      <td>&lt;dnd_mechanics.Character object at 0x7fad511df...</td>\n",
       "      <td>str</td>\n",
       "      <td>17.0</td>\n",
       "      <td>1.0</td>\n",
       "    </tr>\n",
       "    <tr>\n",
       "      <td>0</td>\n",
       "      <td>&lt;dnd_mechanics.Character object at 0x7fad511df...</td>\n",
       "      <td>dex</td>\n",
       "      <td>16.0</td>\n",
       "      <td>2.0</td>\n",
       "    </tr>\n",
       "    <tr>\n",
       "      <td>0</td>\n",
       "      <td>&lt;dnd_mechanics.Character object at 0x7fad511df...</td>\n",
       "      <td>con</td>\n",
       "      <td>13.0</td>\n",
       "      <td>3.0</td>\n",
       "    </tr>\n",
       "    <tr>\n",
       "      <td>0</td>\n",
       "      <td>&lt;dnd_mechanics.Character object at 0x7fad511df...</td>\n",
       "      <td>int</td>\n",
       "      <td>11.0</td>\n",
       "      <td>4.0</td>\n",
       "    </tr>\n",
       "    <tr>\n",
       "      <td>0</td>\n",
       "      <td>&lt;dnd_mechanics.Character object at 0x7fad511df...</td>\n",
       "      <td>wis</td>\n",
       "      <td>9.0</td>\n",
       "      <td>5.0</td>\n",
       "    </tr>\n",
       "  </tbody>\n",
       "</table>\n",
       "</div>"
      ],
      "text/plain": [
       "                                           character stat  value  stat_rank\n",
       "0  <dnd_mechanics.Character object at 0x7fad511df...  str   17.0        1.0\n",
       "0  <dnd_mechanics.Character object at 0x7fad511df...  dex   16.0        2.0\n",
       "0  <dnd_mechanics.Character object at 0x7fad511df...  con   13.0        3.0\n",
       "0  <dnd_mechanics.Character object at 0x7fad511df...  int   11.0        4.0\n",
       "0  <dnd_mechanics.Character object at 0x7fad511df...  wis    9.0        5.0"
      ]
     },
     "execution_count": 52,
     "metadata": {},
     "output_type": "execute_result"
    }
   ],
   "source": [
    "test.head()"
   ]
  }
 ],
 "metadata": {
  "kernelspec": {
   "display_name": "Python 3.7.4 ('base')",
   "language": "python",
   "name": "python3"
  },
  "language_info": {
   "codemirror_mode": {
    "name": "ipython",
    "version": 3
   },
   "file_extension": ".py",
   "mimetype": "text/x-python",
   "name": "python",
   "nbconvert_exporter": "python",
   "pygments_lexer": "ipython3",
   "version": "3.7.4"
  },
  "orig_nbformat": 4,
  "vscode": {
   "interpreter": {
    "hash": "40d3a090f54c6569ab1632332b64b2c03c39dcf918b08424e98f38b5ae0af88f"
   }
  }
 },
 "nbformat": 4,
 "nbformat_minor": 2
}
