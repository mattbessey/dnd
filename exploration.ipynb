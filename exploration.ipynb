{
 "cells": [
  {
   "cell_type": "code",
   "execution_count": 2,
   "metadata": {},
   "outputs": [],
   "source": [
    "# import stuff\n",
    "from dice_rollers import rollSixStats, findStatModifier, roll_dice\n",
    "from dnd_mechanics import create_character_easy, Character, Weapon, create_character, create_all_character_variations, fight_to_death\n",
    "import statistics\n",
    "import pandas as pd"
   ]
  },
  {
   "cell_type": "code",
   "execution_count": 2,
   "metadata": {},
   "outputs": [],
   "source": [
    "character = create_character_easy(\"character\")"
   ]
  },
  {
   "cell_type": "code",
   "execution_count": 8,
   "metadata": {},
   "outputs": [],
   "source": [
    "stats = [\"str\", \"dex\", \"con\", \"int\", \"wis\", \"cha\"]"
   ]
  },
  {
   "cell_type": "code",
   "execution_count": 35,
   "metadata": {},
   "outputs": [],
   "source": [
    "stat_data = pd.DataFrame(columns=[\"stat\", \"value\", \"name\"])\n",
    "for stat in stats:\n",
    "    temp_df = pd.DataFrame([[stat, eval(\"character.%s\" % stat), character.name]], columns=[\"stat\", \"value\", \"name\"])\n",
    "    stat_data = stat_data.append(temp_df)"
   ]
  },
  {
   "cell_type": "code",
   "execution_count": 3,
   "metadata": {},
   "outputs": [],
   "source": [
    "def extract_stat_df(characters: list) -> pd.DataFrame:\n",
    "    stat_data = pd.DataFrame(columns=[\"character\", \"stat\", \"value\"])\n",
    "    all_stats = [\"str\", \"dex\", \"con\", \"int\", \"wis\", \"cha\"]\n",
    "    for character in characters:\n",
    "        for stat in all_stats:\n",
    "            temp_df = pd.DataFrame(\n",
    "                [[character, stat, eval(\"character.%s\" % stat)]],\n",
    "                columns = [\"character\", \"stat\", \"value\"]\n",
    "            )\n",
    "            stat_data = stat_data.append(temp_df)\n",
    "    \n",
    "    return stat_data"
   ]
  }
 ],
 "metadata": {
  "kernelspec": {
   "display_name": "Python 3.7.4 ('base')",
   "language": "python",
   "name": "python3"
  },
  "language_info": {
   "codemirror_mode": {
    "name": "ipython",
    "version": 3
   },
   "file_extension": ".py",
   "mimetype": "text/x-python",
   "name": "python",
   "nbconvert_exporter": "python",
   "pygments_lexer": "ipython3",
   "version": "3.7.4"
  },
  "orig_nbformat": 4,
  "vscode": {
   "interpreter": {
    "hash": "40d3a090f54c6569ab1632332b64b2c03c39dcf918b08424e98f38b5ae0af88f"
   }
  }
 },
 "nbformat": 4,
 "nbformat_minor": 2
}
