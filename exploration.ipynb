{
 "cells": [
  {
   "cell_type": "code",
   "execution_count": 27,
   "metadata": {},
   "outputs": [],
   "source": [
    "# import stuff\n",
    "from dice_rollers import rollSixStats, findStatModifier, roll_dice\n",
    "import dnd_mechanics\n",
    "\n",
    "\n"
   ]
  },
  {
   "cell_type": "code",
   "execution_count": 47,
   "metadata": {},
   "outputs": [],
   "source": [
    "# create characters\n",
    "def create_character_easy(name: str) -> dnd_mechanics.Character:\n",
    "    \"\"\"\n",
    "    Creates a character given just a string for a name\n",
    "    \"\"\"\n",
    "    stat_list = rollSixStats()\n",
    "    stat_rank_order = [\"dex\", \"str\", \"int\", \"con\", \"cha\", \"wis\"]\n",
    "    character = dnd_mechanics.create_character(\n",
    "        name=name, stat_list=stat_list, stat_rank_order= stat_rank_order\n",
    "    )\n",
    "    katana = dnd_mechanics.Weapon\n",
    "    character.equip_weapon(katana)\n",
    "\n",
    "    return character"
   ]
  },
  {
   "cell_type": "code",
   "execution_count": 44,
   "metadata": {},
   "outputs": [],
   "source": [
    "# create and equip weapons\n",
    "katana = dnd_mechanics.Weapon()\n",
    "dan.equip_weapon(katana)\n",
    "matt.equip_weapon(katana)\n",
    "\n"
   ]
  },
  {
   "cell_type": "code",
   "execution_count": 42,
   "metadata": {},
   "outputs": [],
   "source": [
    "def fight_to_death(character1: dnd_mechanics.Character, character2: dnd_mechanics.Character):\n",
    "    character1.roll_for_initiative()\n",
    "    character2.roll_for_initiative()\n",
    "    turn_count = 0\n",
    "\n",
    "    if character1.initiative > character2.initiative:\n",
    "        while character1.state == \"alive\" and character2.state == \"alive\":\n",
    "            turn_count += 1\n",
    "            character2.get_attacked(character1.attack())\n",
    "            character1.get_attacked(character2.attack())\n",
    "\n",
    "    elif character2.initiative > character1.initiative:\n",
    "        while character1.state == \"alive\" and character2.state == \"alive\":\n",
    "            turn_count += 1\n",
    "            character1.get_attacked(character1.attack())\n",
    "            character2.get_attacked(character2.attack())\n",
    "\n",
    "    if character1.state == \"alive\":\n",
    "        return [character1, turn_count] \n",
    "    \n",
    "    elif character2.state == \"alive\":\n",
    "        return [character2, turn_count]\n",
    "    \n"
   ]
  },
  {
   "cell_type": "code",
   "execution_count": null,
   "metadata": {},
   "outputs": [],
   "source": []
  }
 ],
 "metadata": {
  "kernelspec": {
   "display_name": "Python 3.7.4 ('base')",
   "language": "python",
   "name": "python3"
  },
  "language_info": {
   "codemirror_mode": {
    "name": "ipython",
    "version": 3
   },
   "file_extension": ".py",
   "mimetype": "text/x-python",
   "name": "python",
   "nbconvert_exporter": "python",
   "pygments_lexer": "ipython3",
   "version": "3.7.4"
  },
  "orig_nbformat": 4,
  "vscode": {
   "interpreter": {
    "hash": "40d3a090f54c6569ab1632332b64b2c03c39dcf918b08424e98f38b5ae0af88f"
   }
  }
 },
 "nbformat": 4,
 "nbformat_minor": 2
}
