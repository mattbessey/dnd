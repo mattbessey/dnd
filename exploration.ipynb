{
 "cells": [
  {
   "cell_type": "code",
   "execution_count": 1,
   "metadata": {},
   "outputs": [],
   "source": [
    "# import stuff\n",
    "from dice_rollers import rollSixStats, findStatModifier, roll_dice\n",
    "from dnd_mechanics import create_character_easy, Character, Weapon, create_character, create_all_character_variations\n",
    "import itertools"
   ]
  },
  {
   "cell_type": "code",
   "execution_count": 2,
   "metadata": {},
   "outputs": [],
   "source": [
    "def fight_to_death(character1: Character, character2: Character):\n",
    "    character1.roll_for_initiative()\n",
    "    character2.roll_for_initiative()\n",
    "    turn_count = 0\n",
    "    character1_attacks = []\n",
    "    character2_attacks = []\n",
    "\n",
    "    if character1.initiative > character2.initiative:\n",
    "        while character1.state == \"alive\" and character2.state == \"alive\":\n",
    "            turn_count += 1\n",
    "            \n",
    "            attack = character1.attack()\n",
    "            character1_attacks.append(attack)\n",
    "            character2.get_attacked(attack)\n",
    "\n",
    "            attack = character2.attack()\n",
    "            character2_attacks.append(attack)\n",
    "            character1.get_attacked(attack)\n",
    "\n",
    "    elif character2.initiative > character1.initiative:\n",
    "        while character1.state == \"alive\" and character2.state == \"alive\":\n",
    "            turn_count += 1\n",
    "            \n",
    "            attack = character2.attack()\n",
    "            character2_attacks.append(attack)\n",
    "            character1.get_attacked(attack)\n",
    "\n",
    "            attack = character1.attack()\n",
    "            character1_attacks.append(attack)\n",
    "            character2.get_attacked(attack)\n",
    "\n",
    "    if character1.state == \"alive\":\n",
    "        return {\"winner\": character1, \n",
    "                \"turn_count\": turn_count,\n",
    "                \"character1_attacks\": character1_attacks,\n",
    "                \"character2_attacks\": character2_attacks}\n",
    "\n",
    "    elif character2.state == \"alive\":\n",
    "        return {\"winner\": character1,\n",
    "                \"turn_count\": turn_count,\n",
    "                \"character1_attacks\": character1_attacks,\n",
    "                \"character2_attacks\": character2_attacks}\n"
   ]
  },
  {
   "cell_type": "code",
   "execution_count": 3,
   "metadata": {},
   "outputs": [],
   "source": [
    "characters = create_all_character_variations()"
   ]
  },
  {
   "cell_type": "code",
   "execution_count": null,
   "metadata": {},
   "outputs": [],
   "source": []
  }
 ],
 "metadata": {
  "kernelspec": {
   "display_name": "Python 3.7.4 ('base')",
   "language": "python",
   "name": "python3"
  },
  "language_info": {
   "codemirror_mode": {
    "name": "ipython",
    "version": 3
   },
   "file_extension": ".py",
   "mimetype": "text/x-python",
   "name": "python",
   "nbconvert_exporter": "python",
   "pygments_lexer": "ipython3",
   "version": "3.7.4"
  },
  "orig_nbformat": 4,
  "vscode": {
   "interpreter": {
    "hash": "40d3a090f54c6569ab1632332b64b2c03c39dcf918b08424e98f38b5ae0af88f"
   }
  }
 },
 "nbformat": 4,
 "nbformat_minor": 2
}
