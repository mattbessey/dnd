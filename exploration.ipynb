{
 "cells": [
  {
   "cell_type": "code",
   "execution_count": 5,
   "metadata": {},
   "outputs": [],
   "source": [
    "# import stuff\n",
    "from dice_rollers import rollSixStats, findStatModifier, roll_dice\n",
    "import dnd_mechanics\n",
    "\n",
    "\n"
   ]
  },
  {
   "cell_type": "code",
   "execution_count": 7,
   "metadata": {},
   "outputs": [],
   "source": [
    "# create characters\n",
    "stat_list = rollSixStats()\n",
    "stat_list2 = rollSixStats()\n",
    "stat_rank_order = [\"dex\", \"str\", \"int\", \"con\", \"cha\", \"wis\"]\n",
    "dan = dnd_mechanics.create_character(\n",
    "    name=\"dan\", stat_list=stat_list, stat_rank_order=stat_rank_order)\n",
    "matt = dnd_mechanics.create_character(\n",
    "    name=\"matt\", stat_list=stat_list2, stat_rank_order=stat_rank_order)\n"
   ]
  },
  {
   "cell_type": "code",
   "execution_count": 6,
   "metadata": {},
   "outputs": [],
   "source": [
    "# create and equip weapons\n",
    "katana = dnd_mechanics.Weapon()\n",
    "dan.equip_weapon(katana)\n",
    "matt.equip_weapon(katana)"
   ]
  },
  {
   "cell_type": "code",
   "execution_count": null,
   "metadata": {},
   "outputs": [],
   "source": [
    "def fight_to_death(character1: dnd_mechanics.Character, character2: dnd_mechanics.Character):\n",
    "    character1.roll_for_initiative()\n",
    "    character2.roll_for_initiative()\n",
    "    \n"
   ]
  }
 ],
 "metadata": {
  "kernelspec": {
   "display_name": "Python 3.7.4 ('base')",
   "language": "python",
   "name": "python3"
  },
  "language_info": {
   "codemirror_mode": {
    "name": "ipython",
    "version": 3
   },
   "file_extension": ".py",
   "mimetype": "text/x-python",
   "name": "python",
   "nbconvert_exporter": "python",
   "pygments_lexer": "ipython3",
   "version": "3.7.4"
  },
  "orig_nbformat": 4,
  "vscode": {
   "interpreter": {
    "hash": "40d3a090f54c6569ab1632332b64b2c03c39dcf918b08424e98f38b5ae0af88f"
   }
  }
 },
 "nbformat": 4,
 "nbformat_minor": 2
}
