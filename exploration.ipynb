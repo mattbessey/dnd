{
 "cells": [
  {
   "cell_type": "code",
   "execution_count": 15,
   "metadata": {},
   "outputs": [],
   "source": [
    "# import stuff\n",
    "from dice_rollers import rollSixStats, findStatModifier, roll_dice\n",
    "from dnd_mechanics import create_character_easy, Character, Weapon, create_character\n",
    "import itertools\n",
    "\n",
    "\n"
   ]
  },
  {
   "cell_type": "code",
   "execution_count": 8,
   "metadata": {},
   "outputs": [
    {
     "data": {
      "text/plain": [
       "720"
      ]
     },
     "execution_count": 8,
     "metadata": {},
     "output_type": "execute_result"
    }
   ],
   "source": [
    "stat_list = [\"str\", \"dex\", \"con\", \"int\", \"wis\", \"cha\"]\n",
    "permutations = list(itertools.permutations(stat_list))\n",
    "len(permutations)"
   ]
  },
  {
   "cell_type": "code",
   "execution_count": 16,
   "metadata": {},
   "outputs": [],
   "source": [
    "def create_all_characters(stat_rolls: list = None):\n",
    "    stat_list = [\"str\", \"dex\", \"con\", \"int\", \"wis\", \"cha\"]\n",
    "    permutations = list(itertools.permutations(stat_list))\n",
    "    generated_characters = []\n",
    "\n",
    "    if stat_rolls:\n",
    "        for i in range(len(permutations)):\n",
    "            name = \"character_\" + str(i)\n",
    "            character = create_character(name=name, stat_rank_order=permutations[i], stat_list=stat_rolls)\n",
    "            generated_characters.append(character)\n",
    "    else:\n",
    "        for i in range(len(permutations)):\n",
    "            name = \"character_\" + str(i)\n",
    "            stat_rolls = rollSixStats()\n",
    "            character = create_character(\n",
    "                name=name, stat_rank_order=permutations[i], stat_list=stat_rolls)\n"
   ]
  },
  {
   "cell_type": "code",
   "execution_count": 17,
   "metadata": {},
   "outputs": [
    {
     "ename": "TypeError",
     "evalue": "create_character() got an unexpected keyword argument 'stat_rolls'",
     "output_type": "error",
     "traceback": [
      "\u001b[0;31m---------------------------------------------------------------------------\u001b[0m",
      "\u001b[0;31mTypeError\u001b[0m                                 Traceback (most recent call last)",
      "\u001b[0;32m<ipython-input-17-18acd5188a0c>\u001b[0m in \u001b[0;36m<module>\u001b[0;34m\u001b[0m\n\u001b[0;32m----> 1\u001b[0;31m \u001b[0mbunch_of_characters\u001b[0m \u001b[0;34m=\u001b[0m \u001b[0mcreate_all_characters\u001b[0m\u001b[0;34m(\u001b[0m\u001b[0;34m)\u001b[0m\u001b[0;34m\u001b[0m\u001b[0;34m\u001b[0m\u001b[0m\n\u001b[0m",
      "\u001b[0;32m<ipython-input-16-3ba1ccf976f8>\u001b[0m in \u001b[0;36mcreate_all_characters\u001b[0;34m(stat_rolls)\u001b[0m\n\u001b[1;32m     13\u001b[0m             \u001b[0mname\u001b[0m \u001b[0;34m=\u001b[0m \u001b[0;34m\"character_\"\u001b[0m \u001b[0;34m+\u001b[0m \u001b[0mstr\u001b[0m\u001b[0;34m(\u001b[0m\u001b[0mi\u001b[0m\u001b[0;34m)\u001b[0m\u001b[0;34m\u001b[0m\u001b[0;34m\u001b[0m\u001b[0m\n\u001b[1;32m     14\u001b[0m             \u001b[0mstat_rolls\u001b[0m \u001b[0;34m=\u001b[0m \u001b[0mrollSixStats\u001b[0m\u001b[0;34m(\u001b[0m\u001b[0;34m)\u001b[0m\u001b[0;34m\u001b[0m\u001b[0;34m\u001b[0m\u001b[0m\n\u001b[0;32m---> 15\u001b[0;31m             \u001b[0mcharacter\u001b[0m \u001b[0;34m=\u001b[0m \u001b[0mcreate_character\u001b[0m\u001b[0;34m(\u001b[0m\u001b[0mname\u001b[0m\u001b[0;34m=\u001b[0m\u001b[0mname\u001b[0m\u001b[0;34m,\u001b[0m \u001b[0mstat_list\u001b[0m\u001b[0;34m=\u001b[0m\u001b[0mpermutations\u001b[0m\u001b[0;34m[\u001b[0m\u001b[0mi\u001b[0m\u001b[0;34m]\u001b[0m\u001b[0;34m,\u001b[0m \u001b[0mstat_rolls\u001b[0m\u001b[0;34m=\u001b[0m\u001b[0mstat_rolls\u001b[0m\u001b[0;34m)\u001b[0m\u001b[0;34m\u001b[0m\u001b[0;34m\u001b[0m\u001b[0m\n\u001b[0m",
      "\u001b[0;31mTypeError\u001b[0m: create_character() got an unexpected keyword argument 'stat_rolls'"
     ]
    }
   ],
   "source": [
    "bunch_of_characters = create_all_characters()"
   ]
  }
 ],
 "metadata": {
  "kernelspec": {
   "display_name": "Python 3.7.4 ('base')",
   "language": "python",
   "name": "python3"
  },
  "language_info": {
   "codemirror_mode": {
    "name": "ipython",
    "version": 3
   },
   "file_extension": ".py",
   "mimetype": "text/x-python",
   "name": "python",
   "nbconvert_exporter": "python",
   "pygments_lexer": "ipython3",
   "version": "3.7.4"
  },
  "orig_nbformat": 4,
  "vscode": {
   "interpreter": {
    "hash": "40d3a090f54c6569ab1632332b64b2c03c39dcf918b08424e98f38b5ae0af88f"
   }
  }
 },
 "nbformat": 4,
 "nbformat_minor": 2
}
