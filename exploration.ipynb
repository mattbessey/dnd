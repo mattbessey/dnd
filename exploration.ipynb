{
 "cells": [
  {
   "cell_type": "code",
   "execution_count": 33,
   "metadata": {},
   "outputs": [],
   "source": [
    "# import stuff\n",
    "from dice_rollers import rollSixStats, findStatModifier, roll_dice\n",
    "from dnd_mechanics import create_character_easy, Character, Weapon, create_character, create_all_character_variations, fight_to_death\n",
    "import statistics\n",
    "import pandas as pd\n",
    "import numpy as np"
   ]
  },
  {
   "cell_type": "code",
   "execution_count": 2,
   "metadata": {},
   "outputs": [],
   "source": [
    "character = create_character_easy(\"character\")"
   ]
  },
  {
   "cell_type": "code",
   "execution_count": 3,
   "metadata": {},
   "outputs": [],
   "source": [
    "stats = [\"str\", \"dex\", \"con\", \"int\", \"wis\", \"cha\"]"
   ]
  },
  {
   "cell_type": "code",
   "execution_count": 5,
   "metadata": {},
   "outputs": [],
   "source": [
    "def extract_stat_df(characters: list) -> pd.DataFrame:\n",
    "    stat_data = pd.DataFrame(columns=[\"character\", \"stat\", \"value\"])\n",
    "    all_stats = [\"str\", \"dex\", \"con\", \"int\", \"wis\", \"cha\"]\n",
    "    for character in characters:\n",
    "        for stat in all_stats:\n",
    "            temp_df = pd.DataFrame(\n",
    "                [[character, stat, eval(\"character.%s\" % stat)]],\n",
    "                columns = [\"character\", \"stat\", \"value\"]\n",
    "            )\n",
    "            stat_data = stat_data.append(temp_df)\n",
    "    \n",
    "    return stat_data"
   ]
  },
  {
   "cell_type": "code",
   "execution_count": 6,
   "metadata": {},
   "outputs": [],
   "source": [
    "characters = create_all_character_variations()"
   ]
  },
  {
   "cell_type": "code",
   "execution_count": 9,
   "metadata": {},
   "outputs": [],
   "source": [
    "calculated_stats = extract_stat_df(characters)"
   ]
  },
  {
   "cell_type": "code",
   "execution_count": 17,
   "metadata": {},
   "outputs": [
    {
     "data": {
      "text/html": [
       "<div>\n",
       "<style scoped>\n",
       "    .dataframe tbody tr th:only-of-type {\n",
       "        vertical-align: middle;\n",
       "    }\n",
       "\n",
       "    .dataframe tbody tr th {\n",
       "        vertical-align: top;\n",
       "    }\n",
       "\n",
       "    .dataframe thead th {\n",
       "        text-align: right;\n",
       "    }\n",
       "</style>\n",
       "<table border=\"1\" class=\"dataframe\">\n",
       "  <thead>\n",
       "    <tr style=\"text-align: right;\">\n",
       "      <th></th>\n",
       "      <th>character</th>\n",
       "      <th>stat</th>\n",
       "      <th>value</th>\n",
       "    </tr>\n",
       "  </thead>\n",
       "  <tbody>\n",
       "    <tr>\n",
       "      <td>0</td>\n",
       "      <td>&lt;dnd_mechanics.Character object at 0x7fad511df...</td>\n",
       "      <td>str</td>\n",
       "      <td>17</td>\n",
       "    </tr>\n",
       "    <tr>\n",
       "      <td>0</td>\n",
       "      <td>&lt;dnd_mechanics.Character object at 0x7fad511df...</td>\n",
       "      <td>dex</td>\n",
       "      <td>16</td>\n",
       "    </tr>\n",
       "    <tr>\n",
       "      <td>0</td>\n",
       "      <td>&lt;dnd_mechanics.Character object at 0x7fad511df...</td>\n",
       "      <td>con</td>\n",
       "      <td>13</td>\n",
       "    </tr>\n",
       "    <tr>\n",
       "      <td>0</td>\n",
       "      <td>&lt;dnd_mechanics.Character object at 0x7fad511df...</td>\n",
       "      <td>int</td>\n",
       "      <td>11</td>\n",
       "    </tr>\n",
       "    <tr>\n",
       "      <td>0</td>\n",
       "      <td>&lt;dnd_mechanics.Character object at 0x7fad511df...</td>\n",
       "      <td>wis</td>\n",
       "      <td>9</td>\n",
       "    </tr>\n",
       "  </tbody>\n",
       "</table>\n",
       "</div>"
      ],
      "text/plain": [
       "                                           character stat value\n",
       "0  <dnd_mechanics.Character object at 0x7fad511df...  str    17\n",
       "0  <dnd_mechanics.Character object at 0x7fad511df...  dex    16\n",
       "0  <dnd_mechanics.Character object at 0x7fad511df...  con    13\n",
       "0  <dnd_mechanics.Character object at 0x7fad511df...  int    11\n",
       "0  <dnd_mechanics.Character object at 0x7fad511df...  wis     9"
      ]
     },
     "execution_count": 17,
     "metadata": {},
     "output_type": "execute_result"
    }
   ],
   "source": [
    "calculated_stats.head()"
   ]
  },
  {
   "cell_type": "code",
   "execution_count": 40,
   "metadata": {},
   "outputs": [],
   "source": [
    "calculated_stats[\"value\"] = calculated_stats[\"value\"].apply(pd.np.float64)\n",
    "calculated_stats[\"character\"] = calculated_stats[\"character\"].apply(str)\n",
    "calculated_stats[\"rank\"] = calculated_stats.groupby([\"character\"])[\"value\"].rank(\"dense\")"
   ]
  },
  {
   "cell_type": "code",
   "execution_count": 43,
   "metadata": {},
   "outputs": [
    {
     "data": {
      "text/plain": [
       "stat\n",
       "cha    12.140278\n",
       "con    12.227778\n",
       "dex    12.227778\n",
       "int    12.265278\n",
       "str    12.206944\n",
       "wis    12.162500\n",
       "Name: value, dtype: float64"
      ]
     },
     "execution_count": 43,
     "metadata": {},
     "output_type": "execute_result"
    }
   ],
   "source": [
    "calculated_stats.groupby(\"stat\")[\"value\"].mean()"
   ]
  }
 ],
 "metadata": {
  "kernelspec": {
   "display_name": "Python 3.7.4 ('base')",
   "language": "python",
   "name": "python3"
  },
  "language_info": {
   "codemirror_mode": {
    "name": "ipython",
    "version": 3
   },
   "file_extension": ".py",
   "mimetype": "text/x-python",
   "name": "python",
   "nbconvert_exporter": "python",
   "pygments_lexer": "ipython3",
   "version": "3.7.4"
  },
  "orig_nbformat": 4,
  "vscode": {
   "interpreter": {
    "hash": "40d3a090f54c6569ab1632332b64b2c03c39dcf918b08424e98f38b5ae0af88f"
   }
  }
 },
 "nbformat": 4,
 "nbformat_minor": 2
}
