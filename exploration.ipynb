{
 "cells": [
  {
   "cell_type": "code",
   "execution_count": 1,
   "metadata": {},
   "outputs": [],
   "source": [
    "# import stuff\n",
    "from dice_rollers import rollSixStats, findStatModifier, roll_dice\n",
    "from dnd_mechanics import create_character_easy, Character, Weapon, create_character, create_all_character_variations, fight_to_death\n",
    "import statistics"
   ]
  },
  {
   "cell_type": "code",
   "execution_count": null,
   "metadata": {},
   "outputs": [],
   "source": [
    "def fight_random_characters(number_of_fights: int, character1: Character = None, character2: Character = None, complete_random = True) -> list:\n",
    "    all_fights = []\n",
    "    \n",
    "    # check if characters assigned, else generate random characters\n",
    "    if character1:\n",
    "        character1 = character1\n",
    "    else:\n",
    "        character1 = create_character_easy(\"character\")\n",
    "    \n",
    "    if character2:\n",
    "        character2 = character2\n",
    "    else:\n",
    "        character2 = create_character_easy(\"create_character\")\n",
    "\n",
    "    for _ in range(number_of_fights):\n",
    "        if complete_random = True:\n",
    "            character1 = create_character_easy(\"character\")\n",
    "            character2 = create_character_easy(\"character\")\n",
    "        \n",
    "        fight = fight_to_death(character1, character2)\n",
    "        all_fights.append(fight)\n",
    "\n",
    "    return all_fights\n"
   ]
  }
 ],
 "metadata": {
  "kernelspec": {
   "display_name": "Python 3.7.4 ('base')",
   "language": "python",
   "name": "python3"
  },
  "language_info": {
   "codemirror_mode": {
    "name": "ipython",
    "version": 3
   },
   "file_extension": ".py",
   "mimetype": "text/x-python",
   "name": "python",
   "nbconvert_exporter": "python",
   "pygments_lexer": "ipython3",
   "version": "3.7.4"
  },
  "orig_nbformat": 4,
  "vscode": {
   "interpreter": {
    "hash": "40d3a090f54c6569ab1632332b64b2c03c39dcf918b08424e98f38b5ae0af88f"
   }
  }
 },
 "nbformat": 4,
 "nbformat_minor": 2
}
