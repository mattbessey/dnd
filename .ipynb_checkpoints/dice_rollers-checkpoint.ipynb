{
 "cells": [
  {
   "cell_type": "code",
   "execution_count": 24,
   "metadata": {},
   "outputs": [
    {
     "data": {
      "text/plain": [
       "6"
      ]
     },
     "execution_count": 24,
     "metadata": {},
     "output_type": "execute_result"
    }
   ],
   "source": [
    "# import stuff\n",
    "import numpy as np\n",
    "import random\n"
   ]
  },
  {
   "cell_type": "code",
   "execution_count": 117,
   "metadata": {},
   "outputs": [],
   "source": [
    "def statsRoller() -> int:\n",
    "    \"\"\"\n",
    "    Rolls 4d6, drops lowest, returns sum\n",
    "    \"\"\"\n",
    "    roll_list = []\n",
    "    for i in range(4):\n",
    "        roll_list.append(random.randint(1,6))\n",
    "    roll_list.remove(min(roll_list))\n",
    "    return sum(roll_list)\n",
    "\n",
    "def rollSixStats() -> list:\n",
    "    \"\"\"\n",
    "    Rolls 6 stats and returns the list\n",
    "    \"\"\"\n",
    "    stat_list = []\n",
    "    for i in range(6):\n",
    "        stat_list.append(statsRoller())\n",
    "    return stat_list\n",
    "\n",
    "def findStatModifier(stat: int) -> int:\n",
    "    modifier_list = {\n",
    "        1: -5,\n",
    "        2: -4,\n",
    "        3: -4,\n",
    "        4: -3,\n",
    "        5: -3,\n",
    "        6: -2,\n",
    "        7: -2,\n",
    "        8: -1,\n",
    "        9: -1,\n",
    "        10: 0,\n",
    "        11: 0,\n",
    "        12: 1,\n",
    "        13: 1,\n",
    "        14: 2,\n",
    "        15: 2,\n",
    "        16: 3,\n",
    "        17: 3,\n",
    "        18: 4,\n",
    "        19: 4,\n",
    "        20: 5,\n",
    "        21: 5\n",
    "    }\n",
    "    return modifier_list[stat]\n",
    "\n",
    "def rollxdy(die_type: str = \"1d6\", roll_type: str = \"sum\"):\n",
    "    split_string = die_type.split('d')\n",
    "    x = int(split_string[0])\n",
    "    y = int(split_string[1])\n",
    "    dice_roll = []\n",
    "    for i in range(x):\n",
    "        dice_roll.append(random.randint(1,y))\n",
    "    if roll_type == \"sum\":\n",
    "        return sum(dice_roll)\n",
    "    else:\n",
    "        return dice_roll"
   ]
  }
 ],
 "metadata": {
  "kernelspec": {
   "display_name": "Python 3",
   "language": "python",
   "name": "python3"
  },
  "language_info": {
   "codemirror_mode": {
    "name": "ipython",
    "version": 3
   },
   "file_extension": ".py",
   "mimetype": "text/x-python",
   "name": "python",
   "nbconvert_exporter": "python",
   "pygments_lexer": "ipython3",
   "version": "3.7.4"
  }
 },
 "nbformat": 4,
 "nbformat_minor": 4
}
