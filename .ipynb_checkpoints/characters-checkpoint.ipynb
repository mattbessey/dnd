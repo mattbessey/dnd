{
 "cells": [
  {
   "cell_type": "code",
   "execution_count": 1,
   "metadata": {},
   "outputs": [],
   "source": [
    "import nbimporter\n",
    "from dice_rollers import rollSixStats\n",
    "from dice_rollers import findStatModifier\n",
    "from dice_rollers import rollxdy"
   ]
  },
  {
   "cell_type": "code",
   "execution_count": 2,
   "metadata": {},
   "outputs": [],
   "source": [
    "class Character:\n",
    "    def __init__(self, name: str, hit_die: str = \"1d10\"):\n",
    "        self.name = name\n",
    "        self.hit_die = hit_die\n",
    "        self.state = \"alive\"\n",
    "    \n",
    "    def setStats(self, stat_to_modify: str, stat_number: int):\n",
    "        if stat_to_modify == \"str\":\n",
    "            self.str = stat_number\n",
    "        elif stat_to_modify == \"dex\":\n",
    "            self.dex = stat_number\n",
    "        elif stat_to_modify == \"con\":\n",
    "            self.con = stat_number\n",
    "        elif stat_to_modify == \"int\":\n",
    "            self.int = stat_number\n",
    "        elif stat_to_modify == \"wis\":\n",
    "            self.wis = stat_number\n",
    "        elif stat_to_modify == \"cha\":\n",
    "            self.cha = stat_number\n",
    "    \n",
    "    def setModifiers(self):\n",
    "        if self.str:\n",
    "            self.str_mod = findStatModifier(self.str)\n",
    "        if self.dex:\n",
    "            self.dex_mod = findStatModifier(self.dex)\n",
    "        if self.con:\n",
    "            self.con_mod = findStatModifier(self.con)\n",
    "        if self.int:\n",
    "            self.int_mod = findStatModifier(self.int)\n",
    "        if self.wis:\n",
    "            self.wis_mod = findStatModifier(self.wis)\n",
    "        if self.cha:\n",
    "            self.cha_mod = findStatModifier(self.cha)\n",
    "    \n",
    "    def setHitpoints(self):\n",
    "        self.hitpoints = rollxdy(self.hit_die) + self.self.con_mod\n",
    "    \n",
    "    def takeDamage(self, damage: int):\n",
    "        if damage >= self.hitpoints:\n",
    "            self.state = \"dead\"\n",
    "        self.hitpoints -= damage"
   ]
  },
  {
   "cell_type": "code",
   "execution_count": 3,
   "metadata": {},
   "outputs": [],
   "source": [
    "def createCharacterWithStatList(name: str, stat_list: list, stat_rank_order: list):\n",
    "    \"\"\"\n",
    "    Creates a Character with given name.\n",
    "    Stats are taken from stat_list and assigned \n",
    "    in descending rank order based on stat_rank_order\n",
    "    \"\"\"\n",
    "    stat_list.sort(reverse=True)\n",
    "    character = Character(name)\n",
    "    for i in range(len(stat_rank_order)):\n",
    "        character.setStats(stat_to_modify = stat_rank_order[i], stat_number = stat_list[i])\n",
    "    character.setModifiers()\n",
    "    character.setHitpoints()\n",
    "    return character"
   ]
  }
 ],
 "metadata": {
  "kernelspec": {
   "display_name": "Python 3",
   "language": "python",
   "name": "python3"
  },
  "language_info": {
   "codemirror_mode": {
    "name": "ipython",
    "version": 3
   },
   "file_extension": ".py",
   "mimetype": "text/x-python",
   "name": "python",
   "nbconvert_exporter": "python",
   "pygments_lexer": "ipython3",
   "version": "3.7.4"
  }
 },
 "nbformat": 4,
 "nbformat_minor": 4
}
