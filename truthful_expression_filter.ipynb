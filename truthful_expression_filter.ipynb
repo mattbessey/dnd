{
 "cells": [
  {
   "cell_type": "code",
   "execution_count": 1,
   "metadata": {},
   "outputs": [],
   "source": [
    "import pandas as pd"
   ]
  },
  {
   "cell_type": "code",
   "execution_count": 2,
   "metadata": {},
   "outputs": [],
   "source": [
    "df = pd.read_csv('test_data.csv')"
   ]
  },
  {
   "cell_type": "code",
   "execution_count": 3,
   "metadata": {},
   "outputs": [],
   "source": [
    "col1 = 'value_column'\n",
    "col2 = 'text_column_1'\n",
    "col3 = 'text_column_2'"
   ]
  },
  {
   "cell_type": "code",
   "execution_count": 58,
   "metadata": {},
   "outputs": [
    {
     "data": {
      "text/html": [
       "<div>\n",
       "<style scoped>\n",
       "    .dataframe tbody tr th:only-of-type {\n",
       "        vertical-align: middle;\n",
       "    }\n",
       "\n",
       "    .dataframe tbody tr th {\n",
       "        vertical-align: top;\n",
       "    }\n",
       "\n",
       "    .dataframe thead th {\n",
       "        text-align: right;\n",
       "    }\n",
       "</style>\n",
       "<table border=\"1\" class=\"dataframe\">\n",
       "  <thead>\n",
       "    <tr style=\"text-align: right;\">\n",
       "      <th></th>\n",
       "      <th>value_column</th>\n",
       "      <th>text_column_1</th>\n",
       "      <th>text_column_2</th>\n",
       "    </tr>\n",
       "  </thead>\n",
       "  <tbody>\n",
       "    <tr>\n",
       "      <td>0</td>\n",
       "      <td>0.111122</td>\n",
       "      <td>\"this is a sentence\"</td>\n",
       "      <td>NaN</td>\n",
       "    </tr>\n",
       "    <tr>\n",
       "      <td>1</td>\n",
       "      <td>0.029960</td>\n",
       "      <td>NaN</td>\n",
       "      <td>\"this is another sentence\"</td>\n",
       "    </tr>\n",
       "    <tr>\n",
       "      <td>2</td>\n",
       "      <td>0.457547</td>\n",
       "      <td>NaN</td>\n",
       "      <td>\"this is another sentence\"</td>\n",
       "    </tr>\n",
       "    <tr>\n",
       "      <td>3</td>\n",
       "      <td>0.538535</td>\n",
       "      <td>\"this is a sentence\"</td>\n",
       "      <td>\"this is another sentence\"</td>\n",
       "    </tr>\n",
       "    <tr>\n",
       "      <td>4</td>\n",
       "      <td>0.590310</td>\n",
       "      <td>NaN</td>\n",
       "      <td>\"this is another sentence\"</td>\n",
       "    </tr>\n",
       "  </tbody>\n",
       "</table>\n",
       "</div>"
      ],
      "text/plain": [
       "   value_column         text_column_1               text_column_2\n",
       "0      0.111122  \"this is a sentence\"                         NaN\n",
       "1      0.029960                   NaN  \"this is another sentence\"\n",
       "2      0.457547                   NaN  \"this is another sentence\"\n",
       "3      0.538535  \"this is a sentence\"  \"this is another sentence\"\n",
       "4      0.590310                   NaN  \"this is another sentence\""
      ]
     },
     "execution_count": 58,
     "metadata": {},
     "output_type": "execute_result"
    }
   ],
   "source": [
    "df.head()"
   ]
  },
  {
   "cell_type": "code",
   "execution_count": 65,
   "metadata": {},
   "outputs": [],
   "source": [
    "truth_series_1 = df['value_column'] > 0.02\n",
    "truth_series_2 = df[col2] == '\"this is a sentence\"'"
   ]
  },
  {
   "cell_type": "code",
   "execution_count": 38,
   "metadata": {},
   "outputs": [],
   "source": [
    "def generateTruthfulPairs(arg_list: list, df: pd.DataFrame) -> list:\n",
    "    truthful_list = []\n",
    "    for tuplet in arg_list:\n",
    "        argument_string = constructStringArgument(tuplet)\n",
    "        truthful_list.append(df.eval(argument_string))\n",
    "        \n",
    "    return truthful_list"
   ]
  },
  {
   "cell_type": "code",
   "execution_count": 39,
   "metadata": {},
   "outputs": [],
   "source": [
    "def constructStringArgument(arg_list: list):\n",
    "    return arg_list[0] + arg_list[1] + arg_list[2]"
   ]
  },
  {
   "cell_type": "code",
   "execution_count": 42,
   "metadata": {},
   "outputs": [],
   "source": [
    "argument1 = ['value_column','<','0.2']\n",
    "argument2 = ['value_column', '>', '0.2']\n",
    "arg_list = [argument1,argument2]"
   ]
  },
  {
   "cell_type": "code",
   "execution_count": 43,
   "metadata": {},
   "outputs": [
    {
     "data": {
      "text/plain": [
       "[0      True\n",
       " 1      True\n",
       " 2     False\n",
       " 3     False\n",
       " 4     False\n",
       " 5     False\n",
       " 6      True\n",
       " 7     False\n",
       " 8     False\n",
       " 9      True\n",
       " 10    False\n",
       " 11    False\n",
       " 12     True\n",
       " 13     True\n",
       " 14    False\n",
       " 15    False\n",
       " 16    False\n",
       " 17    False\n",
       " 18    False\n",
       " 19    False\n",
       " 20    False\n",
       " 21    False\n",
       " 22    False\n",
       " 23     True\n",
       " 24    False\n",
       " 25     True\n",
       " 26     True\n",
       " 27    False\n",
       " 28     True\n",
       " 29    False\n",
       " 30    False\n",
       " 31     True\n",
       " dtype: bool, 0     False\n",
       " 1     False\n",
       " 2      True\n",
       " 3      True\n",
       " 4      True\n",
       " 5      True\n",
       " 6     False\n",
       " 7      True\n",
       " 8      True\n",
       " 9     False\n",
       " 10     True\n",
       " 11     True\n",
       " 12    False\n",
       " 13    False\n",
       " 14     True\n",
       " 15     True\n",
       " 16     True\n",
       " 17     True\n",
       " 18     True\n",
       " 19     True\n",
       " 20     True\n",
       " 21     True\n",
       " 22     True\n",
       " 23    False\n",
       " 24     True\n",
       " 25    False\n",
       " 26    False\n",
       " 27     True\n",
       " 28    False\n",
       " 29     True\n",
       " 30     True\n",
       " 31    False\n",
       " dtype: bool]"
      ]
     },
     "execution_count": 43,
     "metadata": {},
     "output_type": "execute_result"
    }
   ],
   "source": [
    "generateTruthfulPairs(arg_list, df)"
   ]
  }
 ],
 "metadata": {
  "kernelspec": {
   "display_name": "Python 3",
   "language": "python",
   "name": "python3"
  },
  "language_info": {
   "codemirror_mode": {
    "name": "ipython",
    "version": 3
   },
   "file_extension": ".py",
   "mimetype": "text/x-python",
   "name": "python",
   "nbconvert_exporter": "python",
   "pygments_lexer": "ipython3",
   "version": "3.7.4"
  }
 },
 "nbformat": 4,
 "nbformat_minor": 4
}
